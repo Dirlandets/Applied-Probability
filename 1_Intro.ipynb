{
 "cells": [
  {
   "cell_type": "markdown",
   "id": "2690f709-ca3c-4722-972b-ad8d7e2e44b9",
   "metadata": {},
   "source": [
    "# Intro to Probability\n",
    "\n",
    "A probability is a number that represents the **likelihood** of an uncertain event. Probabilities are always **between 0 and 1**, inclusive. The larger the probability, the more likely the event is to happen. A probability of 0 means that the event is impossible; it will never happen. A probability of 1 means that the event is assured; it will always happen. All other values between 0 and 1 represent various levels of likelihood."
   ]
  },
  {
   "cell_type": "markdown",
   "id": "6124f426-0d04-4359-9190-457e2aa85679",
   "metadata": {},
   "source": [
    "Probability gives a nearly universal framework for analyzing the probabilistic world around us, with applications that stretch from games to sports to finance to engineering to medicine.\n",
    "\n",
    "We'll tour some of the most important ideas that we'll encounter later in the course. Our topics include\n",
    "\n",
    "* **conditional probability**, which helps account for information we know for certain, and\n",
    "* **counting strategies** and **probability rules**, which are used to compute probabilities.\n",
    "\n",
    "To end the quiz, we'll see how probability can help us determine our confidence that someone committed a crime given some evidence in the case."
   ]
  },
  {
   "cell_type": "markdown",
   "id": "aa92d057-65fb-4ab0-abdf-6fd0cea52222",
   "metadata": {},
   "source": [
    "### Whose statement is the most reasonable?\n",
    "\n",
    "**Ali**: I just flipped 3 heads in a row with a fair coin. My next flip is very likely to also be heads.\n",
    "\n",
    "**Ben**: I rolled a fair six-sided die 10 times and I never rolled a 6. The next roll is especially likely to be a 6 because I am \"due\" for one.\n",
    "\n",
    "**Cam**: Usually, if it rains in Brilliantia (40 km west of where I live), it rains here a couple of hours later. It just started raining in Brilliantia, so it will probably rain here soon."
   ]
  },
  {
   "cell_type": "markdown",
   "id": "2519f785-b604-40e7-977e-0fb2615be293",
   "metadata": {},
   "source": [
    "All of these statements relate to conditional probability: \n",
    "how probability changes when some information about another event is known. \n",
    "Ali and Ben's statements are unreasonable because coin flips (and dice rolls) are independent, so the **information about the previous flips** (or rolls) says nothing about **future flips** (or rolls)."
   ]
  },
  {
   "cell_type": "code",
   "execution_count": null,
   "id": "ac64169c-63f5-48cd-bc60-240c978aa05e",
   "metadata": {},
   "outputs": [],
   "source": []
  }
 ],
 "metadata": {
  "kernelspec": {
   "display_name": "Python 3",
   "language": "python",
   "name": "python3"
  },
  "language_info": {
   "codemirror_mode": {
    "name": "ipython",
    "version": 3
   },
   "file_extension": ".py",
   "mimetype": "text/x-python",
   "name": "python",
   "nbconvert_exporter": "python",
   "pygments_lexer": "ipython3",
   "version": "3.9.5"
  }
 },
 "nbformat": 4,
 "nbformat_minor": 5
}
